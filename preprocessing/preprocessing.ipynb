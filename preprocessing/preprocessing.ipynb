{
 "metadata": {
  "language_info": {
   "codemirror_mode": {
    "name": "ipython",
    "version": 3
   },
   "file_extension": ".py",
   "mimetype": "text/x-python",
   "name": "python",
   "nbconvert_exporter": "python",
   "pygments_lexer": "ipython3",
   "version": "3.8.3-final"
  },
  "orig_nbformat": 2,
  "kernelspec": {
   "name": "python38364bitbasecondae5dbb8728c094213850f00a08f6aa979",
   "language": "python",
   "display_name": "Python 3.8.3 64-bit ('base': conda)"
  }
 },
 "nbformat": 4,
 "nbformat_minor": 2,
 "cells": [
  {
   "cell_type": "markdown",
   "metadata": {},
   "source": [
    "# This script was built to process and split the data into appropriate training and testing datasets. "
   ]
  },
  {
   "cell_type": "code",
   "execution_count": 1,
   "metadata": {},
   "outputs": [],
   "source": [
    "from PIL import Image as img\n",
    "import os\n",
    "import random\n",
    "import numpy as np\n",
    "import shutil as sh\n",
    "from tqdm import tqdm\n",
    "import sys\n",
    "from time import sleep"
   ]
  },
  {
   "cell_type": "code",
   "execution_count": null,
   "outputs": [],
   "source": [
    "skip_img = [True if input(\"Skip image directory reclassification? [yes/no]\").lower()[0] == 'y' else False][0]"
   ],
   "metadata": {
    "collapsed": false,
    "pycharm": {
     "name": "#%%\n"
    }
   }
  },
  {
   "cell_type": "markdown",
   "source": [
    "## make the necessary master_subset and master_subset_resized* directories"
   ],
   "metadata": {
    "collapsed": false
   }
  },
  {
   "cell_type": "code",
   "execution_count": null,
   "outputs": [],
   "source": [
    "if not skip_img:\n",
    "\n",
    "    created_master_subset_rs_500 = False\n",
    "    created_master_subset_rs_1000 = False\n",
    "\n",
    "    while True:\n",
    "        try:\n",
    "            if not created_master_subset_rs_500: os.makedirs('./source/master_rs_500')\n",
    "            if not created_master_subset_rs_1000: os.makedirs('./source/master_rs_1000')\n",
    "            break\n",
    "        except FileExistsError as e:\n",
    "            errordir = str(e).split(\"/\")[-1].split(\"'\")[0]\n",
    "            print(\"{} directory already exists. Replacing current content of directory with current selection, removing any old directories\".format(errordir))\n",
    "            os.system(\"rm -rf ./source/OLD_{}\".format(errordir))\n",
    "            os.system(\"mv ./source/{} ./source/OLD_{}\".format(errordir,errordir))\n",
    "            os.makedirs('./source/{}'.format(errordir))\n",
    "\n",
    "            exec(\"created_{} = True\".format(errordir))"
   ],
   "metadata": {
    "collapsed": false,
    "pycharm": {
     "name": "#%%\n"
    }
   }
  },
  {
   "cell_type": "markdown",
   "source": [
    "## resize all the images to 500x500 and 1000x1000"
   ],
   "metadata": {
    "collapsed": false
   }
  },
  {
   "cell_type": "code",
   "execution_count": null,
   "outputs": [],
   "source": [
    "if not skip_img:\n",
    "\n",
    "    # Resize images and populates the rs directory with images\n",
    "    for file in tqdm(os.listdir('./source/master')):\n",
    "        pos = img.open('./source/master/'+file)\n",
    "        resized500 = pos.resize((500,500))\n",
    "        resized1000 = pos.resize((1000,1000))\n",
    "        resized500.save(\"./source/master_rs_500/\" + file)\n",
    "        resized1000.save(\"./source/master_rs_1000/\" + file)"
   ],
   "metadata": {
    "collapsed": false,
    "pycharm": {
     "name": "#%%\n"
    }
   }
  },
  {
   "cell_type": "code",
   "execution_count": 2,
   "metadata": {
    "tags": []
   },
   "outputs": [],
   "source": [
    "# helper function\n",
    "def choice_pair(N, percent):\n",
    "    \"\"\"\n",
    "    Inputs\n",
    "    ------\n",
    "    N : type = int OR float OR list OR numpy.ndarray\n",
    "        contains the the data to select a random sample from \n",
    "    percent : type = int OR float\n",
    "              value that goes from 0.0 to 1.0\n",
    "              represents the fraction of elements to split N at \n",
    "\n",
    "    Outputs\n",
    "    -------\n",
    "    2 lists : The first one is the random sampling of N with percent % number of elements from N\n",
    "              The second list contains all the elements from N that are not in the first list\n",
    "    \"\"\"\n",
    "    numeric = None\n",
    "    if isinstance(N, int) or isinstance(N, float):\n",
    "        tmp = range(N)\n",
    "        numeric=True\n",
    "    elif isinstance(N, list) or isinstance(N, np.ndarray):\n",
    "        tmp = np.array(N)\n",
    "        numeric = False\n",
    "    random.shuffle(tmp)\n",
    "    if numeric:\n",
    "        cut = int(N * percent)\n",
    "    else:\n",
    "        cut = int(len(N) * percent)\n",
    "    return tmp[:cut], tmp[cut:]"
   ]
  },
  {
   "source": [
    "## Create folders that will hold the training and testing data (organized appropriately)"
   ],
   "cell_type": "markdown",
   "metadata": {}
  },
  {
   "cell_type": "code",
   "execution_count": 3,
   "metadata": {
    "tags": []
   },
   "outputs": [],
   "source": [
    "#make the necessary folders, rename the existing ones if necessary [gates directories]\n",
    "for imgsize in (500, 1000):\n",
    "    try:\n",
    "        os.makedirs('./gates{}'.format(str(imgsize))) #makes gates dir\n",
    "\n",
    "        os.makedirs('./gates{}/images'.format(str(imgsize))) # make images dir\n",
    "        os.makedirs('./gates{}/images/train'.format(str(imgsize))) #subdirectories within images\n",
    "        os.makedirs('./gates{}/images/test'.format(str(imgsize)))\n",
    "\n",
    "        os.makedirs('./gates{}/labels'.format(str(imgsize))) # make labels dir\n",
    "        os.makedirs('./gates{}/labels/train'.format(str(imgsize))) # subdirectories within labels\n",
    "        os.makedirs('./gates{}/labels/test'.format(str(imgsize)))\n",
    "    except FileExistsError:\n",
    "        print(\"Training and testing directories already exist. Replacing current content of directories with current selection\")\n",
    "        if os.path.isdir('./gates{}'.format(str(imgsize))):\n",
    "            os.rename(\"./gates{}\".format(str(imgsize)),\"./OLD_gates{}\".format(str(imgsize))) # if the selected path is a folder, rename it with the \"OLD_\" prefix\n",
    "        else:\n",
    "            os.rename(\"./gates{}/train\".format(str(imgsize)), \"./gates{}/OLD_train\".format(str(imgsize)))\n",
    "            os.rename(\"./gates{}/test\".format(str(imgsize)), \"./gates{}/OLD_test\".format(str(imgsize)))\n",
    "        os.makedirs('./gates{}/train'.format(str(imgsize)))\n",
    "        os.makedirs('./gates{}/test'.format(str(imgsize)))\n"
   ]
  },
  {
   "source": [
    "## Split training and testing data - approximately 80/20 split for training/testing"
   ],
   "cell_type": "markdown",
   "metadata": {}
  },
  {
   "cell_type": "code",
   "execution_count": null,
   "metadata": {},
   "outputs": [],
   "source": [
    "print(\"WARNING: The following code will only work if you have created the label files and placed them in the master_subset_rs* directories corresponding to the image size\")\n",
    "to_continue = input(\"Are the images and the labels in the same directory? [yes/no]\")\n",
    "if to_continue.lower()[0] != 'y':\n",
    "    exit()"
   ]
  },
  {
   "cell_type": "code",
   "execution_count": null,
   "outputs": [],
   "source": [
    "#random sampling of 500x500 images and populating the train and test directories\n",
    "train_list, test_list = choice_pair(os.listdir('./source/master_subset'), 0.8)\n",
    "for filename in tqdm(train_list):\n",
    "    sh.copy2('/home/mihir/ram/source/master_rs_500/'+filename, '/home/mihir/ram/gates500/images/train/'+filename)\n",
    "    sh.copy2('/home/mihir/ram/source/master_rs_500/'+filename[:-4]+'.txt','/home/mihir/ram/gates500/labels/train/'+filename)\n",
    "\n",
    "for filename in tqdm(test_list):\n",
    "    sh.copy2('/home/mihir/ram/source/master_rs_500/'+filename, '/home/mihir/ram/gates500/images/test/'+filename)\n",
    "    sh.copy2('/home/mihir/ram/source/master_rs_500/'+filename[:-4]+'.txt','/home/mihir/ram/gates500/labels/test/'+filename)"
   ],
   "metadata": {
    "collapsed": false,
    "pycharm": {
     "name": "#%%\n"
    }
   }
  },
  {
   "cell_type": "code",
   "execution_count": null,
   "outputs": [],
   "source": [
    "#random sampling of 1000x1000 images and populating the train and test directories\n",
    "train_list, test_list = choice_pair(os.listdir('./source/master_subset'), 0.8)\n",
    "for filename in tqdm(train_list):\n",
    "    sh.copy2('/home/mihir/ram/source/master_rs_1000/'+filename, '/home/mihir/ram/gates1000/images/train/'+filename)\n",
    "    sh.copy2('/home/mihir/ram/source/master_rs_1000/'+filename[:-4]+'.txt','/home/mihir/ram/gates1000/labels/train/'+filename[:-4]+'.txt')\n",
    "\n",
    "for filename in tqdm(test_list):\n",
    "    sh.copy2('/home/mihir/ram/source/master_rs_1000/'+filename, '/home/mihir/ram/gates1000/images/test/'+filename)\n",
    "    sh.copy2('/home/mihir/ram/source/master_rs_1000/'+filename[:-4]+'.txt','/home/mihir/ram/gates1000/labels/test/'+filename[:-4]+'.txt')"
   ],
   "metadata": {
    "collapsed": false,
    "pycharm": {
     "name": "#%%\n"
    }
   }
  },
  {
   "cell_type": "code",
   "execution_count": null,
   "metadata": {},
   "outputs": [],
   "source": []
  }
 ]
}