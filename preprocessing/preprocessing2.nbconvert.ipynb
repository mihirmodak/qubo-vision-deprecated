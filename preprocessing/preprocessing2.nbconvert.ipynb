{
 "cells": [
  {
   "cell_type": "markdown",
   "metadata": {
    "collapsed": false
   },
   "source": [
    "# This script was built to process and split the data into appropriate training and testing datasets."
   ]
  },
  {
   "cell_type": "code",
   "execution_count": 1,
   "metadata": {
    "collapsed": false,
    "pycharm": {
     "name": "#%%\n"
    }
   },
   "outputs": [],
   "source": [
    "from PIL import Image as img\n",
    "import os\n",
    "import random\n",
    "import numpy as np\n",
    "import shutil as sh\n",
    "from tqdm import tqdm\n",
    "from simple_gate_detector import create_dir_system"
   ]
  },
  {
   "cell_type": "code",
   "execution_count": 2,
   "metadata": {
    "collapsed": false,
    "pycharm": {
     "name": "#%%\n"
    }
   },
   "outputs": [],
   "source": [
    "# helper function\n",
    "def choice_pair(N, train_percent):\n",
    "    \"\"\"\n",
    "    Inputs\n",
    "    ------\n",
    "    N : type = int OR list OR numpy.ndarray\n",
    "        contains the the data to select a random sample from\n",
    "    train_percent : type = int OR float\n",
    "              value that goes from 0.0 to 1.0\n",
    "              represents the fraction of elements to split N at\n",
    "\n",
    "    Outputs\n",
    "    -------\n",
    "    2 lists : The first one is the random sampling of N with percent % number of elements from N\n",
    "              The second list contains all the elements from N that are not in the first list\n",
    "    \"\"\"\n",
    "    numeric = None\n",
    "    if isinstance(N, int):\n",
    "        tmp = range(N)\n",
    "        numeric=True\n",
    "    elif isinstance(N, list) or isinstance(N, np.ndarray):\n",
    "        tmp = np.array(N)\n",
    "        numeric = False\n",
    "    else:\n",
    "        print(\"Unsupported input type [N]. N should be an int, list, or numpy array.\")\n",
    "    random.shuffle(tmp)\n",
    "    if numeric:\n",
    "        cut = int(N * train_percent)\n",
    "    else:\n",
    "        cut = int(len(N) * train_percent)\n",
    "    return tmp[:cut], tmp[cut:]"
   ]
  },
  {
   "cell_type": "markdown",
   "metadata": {
    "collapsed": false
   },
   "source": [
    "## Create folders that will hold the training and testing data (organized appropriately)"
   ]
  },
  {
   "cell_type": "code",
   "execution_count": 3,
   "metadata": {
    "collapsed": false,
    "pycharm": {
     "name": "#%%\n"
    }
   },
   "outputs": [],
   "source": [
    "#make the necessary folders, rename the existing ones if necessary [gates directories]\n",
    "CURR_DIR_CUSTOM = os.getenv(\"CURR_DIR_CUSTOM\")\n",
    "\n",
    "create_dir_system('gates', CURR_DIR_CUSTOM)\n",
    "create_dir_system('images', CURR_DIR_CUSTOM+'/gates/')\n",
    "create_dir_system('labels', CURR_DIR_CUSTOM+'/gates/')\n",
    "\n",
    "create_dir_system('test', CURR_DIR_CUSTOM+'/gates/images/')\n",
    "create_dir_system('train', CURR_DIR_CUSTOM+'/gates/images/')\n",
    "\n",
    "create_dir_system('test', CURR_DIR_CUSTOM+'/gates/labels/')\n",
    "create_dir_system('train', CURR_DIR_CUSTOM+'/gates/labels/')\n"
   ]
  },
  {
   "cell_type": "markdown",
   "metadata": {
    "collapsed": false
   },
   "source": [
    "## Split training and testing data - approximately 80/20 split for training/testing"
   ]
  },
  {
   "cell_type": "code",
   "execution_count": 4,
   "metadata": {
    "collapsed": false,
    "pycharm": {
     "name": "#%%\n"
    }
   },
   "outputs": [
    {
     "name": "stderr",
     "output_type": "stream",
     "text": [
      "100%|██████████| 3692/3692 [00:00<00:00, 3920.50it/s]\n",
      "100%|██████████| 924/924 [00:00<00:00, 3939.96it/s]\n"
     ]
    }
   ],
   "source": [
    "#random sampling of 500x500 images and populating the train and test directories\n",
    "train_list, test_list = choice_pair(os.listdir(CURR_DIR_CUSTOM+'/source'), 0.8)\n",
    "for filename in tqdm(train_list):\n",
    "    sh.copy2(CURR_DIR_CUSTOM+'/source/'+filename, CURR_DIR_CUSTOM+'/gates/images/train/')\n",
    "    sh.copy2(CURR_DIR_CUSTOM+'/source_labels/'+filename[:-4]+'.txt', CURR_DIR_CUSTOM+'/gates/labels/train/')\n",
    "\n",
    "for filename in tqdm(test_list):\n",
    "    sh.copy2(CURR_DIR_CUSTOM+'/source/'+filename, CURR_DIR_CUSTOM+'/gates/images/test/')\n",
    "    sh.copy2(CURR_DIR_CUSTOM+'/source_labels/'+filename[:-4]+'.txt', CURR_DIR_CUSTOM+'/gates/labels/test/')"
   ]
  }
 ],
 "metadata": {
  "kernelspec": {
   "display_name": "Python 3.8.3 64-bit ('base': conda)",
   "language": "python",
   "name": "python38364bitbasecondae5dbb8728c094213850f00a08f6aa979"
  },
  "language_info": {
   "codemirror_mode": {
    "name": "ipython",
    "version": 3
   },
   "file_extension": ".py",
   "mimetype": "text/x-python",
   "name": "python",
   "nbconvert_exporter": "python",
   "pygments_lexer": "ipython3",
   "version": "3.8.3"
  }
 },
 "nbformat": 4,
 "nbformat_minor": 0
}
