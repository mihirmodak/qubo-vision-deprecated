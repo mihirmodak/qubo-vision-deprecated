{
 "cells": [
  {
   "cell_type": "markdown",
   "source": [
    "# This script was built to process and split the data into appropriate training and testing datasets."
   ],
   "metadata": {
    "collapsed": false
   }
  },
  {
   "cell_type": "code",
   "execution_count": 1,
   "outputs": [],
   "source": [
    "from PIL import Image as img\n",
    "import os\n",
    "import random\n",
    "import numpy as np\n",
    "import shutil as sh\n",
    "from tqdm import tqdm\n",
    "from simple_gate_detector import create_dir_system"
   ],
   "metadata": {
    "collapsed": false,
    "pycharm": {
     "name": "#%%\n"
    }
   }
  },
  {
   "cell_type": "code",
   "execution_count": 2,
   "outputs": [],
   "source": [
    "# helper function\n",
    "def choice_pair(N, train_percent):\n",
    "    \"\"\"\n",
    "    Inputs\n",
    "    ------\n",
    "    N : type = int OR list OR numpy.ndarray\n",
    "        contains the the data to select a random sample from\n",
    "    train_percent : type = int OR float\n",
    "              value that goes from 0.0 to 1.0\n",
    "              represents the fraction of elements to split N at\n",
    "\n",
    "    Outputs\n",
    "    -------\n",
    "    2 lists : The first one is the random sampling of N with percent % number of elements from N\n",
    "              The second list contains all the elements from N that are not in the first list\n",
    "    \"\"\"\n",
    "    numeric = None\n",
    "    if isinstance(N, int):\n",
    "        tmp = range(N)\n",
    "        numeric=True\n",
    "    elif isinstance(N, list) or isinstance(N, np.ndarray):\n",
    "        tmp = np.array(N)\n",
    "        numeric = False\n",
    "    else:\n",
    "        print(\"Unsupported input type [N]. N should be an int, list, or numpy array.\")\n",
    "    random.shuffle(tmp)\n",
    "    if numeric:\n",
    "        cut = int(N * train_percent)\n",
    "    else:\n",
    "        cut = int(len(N) * train_percent)\n",
    "    return tmp[:cut], tmp[cut:]"
   ],
   "metadata": {
    "collapsed": false,
    "pycharm": {
     "name": "#%%\n"
    }
   }
  },
  {
   "cell_type": "markdown",
   "source": [
    "## Create folders that will hold the training and testing data (organized appropriately)"
   ],
   "metadata": {
    "collapsed": false
   }
  },
  {
   "cell_type": "code",
   "execution_count": 3,
   "outputs": [
    {
     "ename": "TypeError",
     "evalue": "expected str, bytes or os.PathLike object, not NoneType",
     "output_type": "error",
     "traceback": [
      "\u001B[0;31m---------------------------------------------------------------------------\u001B[0m",
      "\u001B[0;31mTypeError\u001B[0m                                 Traceback (most recent call last)",
      "\u001B[0;32m<ipython-input-3-78d9b203d82f>\u001B[0m in \u001B[0;36m<module>\u001B[0;34m\u001B[0m\n\u001B[1;32m      2\u001B[0m \u001B[0mCURR_DIR_CUSTOM\u001B[0m \u001B[0;34m=\u001B[0m \u001B[0mos\u001B[0m\u001B[0;34m.\u001B[0m\u001B[0mgetenv\u001B[0m\u001B[0;34m(\u001B[0m\u001B[0;34m\"CURR_DIR_CUSTOM\"\u001B[0m\u001B[0;34m)\u001B[0m\u001B[0;34m\u001B[0m\u001B[0;34m\u001B[0m\u001B[0m\n\u001B[1;32m      3\u001B[0m \u001B[0;34m\u001B[0m\u001B[0m\n\u001B[0;32m----> 4\u001B[0;31m \u001B[0mcreate_dir_system\u001B[0m\u001B[0;34m(\u001B[0m\u001B[0;34m'gates'\u001B[0m\u001B[0;34m,\u001B[0m \u001B[0mCURR_DIR_CUSTOM\u001B[0m\u001B[0;34m)\u001B[0m\u001B[0;34m\u001B[0m\u001B[0;34m\u001B[0m\u001B[0m\n\u001B[0m\u001B[1;32m      5\u001B[0m \u001B[0mcreate_dir_system\u001B[0m\u001B[0;34m(\u001B[0m\u001B[0;34m'images'\u001B[0m\u001B[0;34m,\u001B[0m \u001B[0mCURR_DIR_CUSTOM\u001B[0m\u001B[0;34m+\u001B[0m\u001B[0;34m'/gates/'\u001B[0m\u001B[0;34m)\u001B[0m\u001B[0;34m\u001B[0m\u001B[0;34m\u001B[0m\u001B[0m\n\u001B[1;32m      6\u001B[0m \u001B[0mcreate_dir_system\u001B[0m\u001B[0;34m(\u001B[0m\u001B[0;34m'labels'\u001B[0m\u001B[0;34m,\u001B[0m \u001B[0mCURR_DIR_CUSTOM\u001B[0m\u001B[0;34m+\u001B[0m\u001B[0;34m'/gates/'\u001B[0m\u001B[0;34m)\u001B[0m\u001B[0;34m\u001B[0m\u001B[0;34m\u001B[0m\u001B[0m\n",
      "\u001B[0;32m~/ram/preprocessing/simple_gate_detector.py\u001B[0m in \u001B[0;36mcreate_dir_system\u001B[0;34m(dir_names, parent_path)\u001B[0m\n\u001B[1;32m    219\u001B[0m         \u001B[0;32massert\u001B[0m \u001B[0misinstance\u001B[0m\u001B[0;34m(\u001B[0m\u001B[0mdir_names\u001B[0m\u001B[0;34m,\u001B[0m \u001B[0mlist\u001B[0m\u001B[0;34m)\u001B[0m\u001B[0;34m\u001B[0m\u001B[0;34m\u001B[0m\u001B[0m\n\u001B[1;32m    220\u001B[0m \u001B[0;34m\u001B[0m\u001B[0m\n\u001B[0;32m--> 221\u001B[0;31m         \u001B[0mparent_path\u001B[0m \u001B[0;34m=\u001B[0m \u001B[0mos\u001B[0m\u001B[0;34m.\u001B[0m\u001B[0mpath\u001B[0m\u001B[0;34m.\u001B[0m\u001B[0mabspath\u001B[0m\u001B[0;34m(\u001B[0m\u001B[0mparent_path\u001B[0m\u001B[0;34m)\u001B[0m\u001B[0;34m\u001B[0m\u001B[0;34m\u001B[0m\u001B[0m\n\u001B[0m\u001B[1;32m    222\u001B[0m \u001B[0;34m\u001B[0m\u001B[0m\n\u001B[1;32m    223\u001B[0m         \u001B[0;32mfor\u001B[0m \u001B[0mname\u001B[0m \u001B[0;32min\u001B[0m \u001B[0mdir_names\u001B[0m\u001B[0;34m:\u001B[0m\u001B[0;34m\u001B[0m\u001B[0;34m\u001B[0m\u001B[0m\n",
      "\u001B[0;32m~/anaconda3/lib/python3.8/posixpath.py\u001B[0m in \u001B[0;36mabspath\u001B[0;34m(path)\u001B[0m\n\u001B[1;32m    372\u001B[0m \u001B[0;32mdef\u001B[0m \u001B[0mabspath\u001B[0m\u001B[0;34m(\u001B[0m\u001B[0mpath\u001B[0m\u001B[0;34m)\u001B[0m\u001B[0;34m:\u001B[0m\u001B[0;34m\u001B[0m\u001B[0;34m\u001B[0m\u001B[0m\n\u001B[1;32m    373\u001B[0m     \u001B[0;34m\"\"\"Return an absolute path.\"\"\"\u001B[0m\u001B[0;34m\u001B[0m\u001B[0;34m\u001B[0m\u001B[0m\n\u001B[0;32m--> 374\u001B[0;31m     \u001B[0mpath\u001B[0m \u001B[0;34m=\u001B[0m \u001B[0mos\u001B[0m\u001B[0;34m.\u001B[0m\u001B[0mfspath\u001B[0m\u001B[0;34m(\u001B[0m\u001B[0mpath\u001B[0m\u001B[0;34m)\u001B[0m\u001B[0;34m\u001B[0m\u001B[0;34m\u001B[0m\u001B[0m\n\u001B[0m\u001B[1;32m    375\u001B[0m     \u001B[0;32mif\u001B[0m \u001B[0;32mnot\u001B[0m \u001B[0misabs\u001B[0m\u001B[0;34m(\u001B[0m\u001B[0mpath\u001B[0m\u001B[0;34m)\u001B[0m\u001B[0;34m:\u001B[0m\u001B[0;34m\u001B[0m\u001B[0;34m\u001B[0m\u001B[0m\n\u001B[1;32m    376\u001B[0m         \u001B[0;32mif\u001B[0m \u001B[0misinstance\u001B[0m\u001B[0;34m(\u001B[0m\u001B[0mpath\u001B[0m\u001B[0;34m,\u001B[0m \u001B[0mbytes\u001B[0m\u001B[0;34m)\u001B[0m\u001B[0;34m:\u001B[0m\u001B[0;34m\u001B[0m\u001B[0;34m\u001B[0m\u001B[0m\n",
      "\u001B[0;31mTypeError\u001B[0m: expected str, bytes or os.PathLike object, not NoneType"
     ]
    }
   ],
   "source": [
    "#make the necessary folders, rename the existing ones if necessary [gates directories]\n",
    "CURR_DIR_CUSTOM = os.getenv(\"CURR_DIR_CUSTOM\")\n",
    "\n",
    "create_dir_system('gates', CURR_DIR_CUSTOM)\n",
    "create_dir_system('images', CURR_DIR_CUSTOM+'/gates/')\n",
    "create_dir_system('labels', CURR_DIR_CUSTOM+'/gates/')\n",
    "\n",
    "create_dir_system('test', CURR_DIR_CUSTOM+'/gates/images/')\n",
    "create_dir_system('train', CURR_DIR_CUSTOM+'/gates/images/')\n",
    "\n",
    "create_dir_system('test', CURR_DIR_CUSTOM+'/gates/labels/')\n",
    "create_dir_system('train', CURR_DIR_CUSTOM+'/gates/labels/')\n"
   ],
   "metadata": {
    "collapsed": false,
    "pycharm": {
     "name": "#%%\n"
    }
   }
  },
  {
   "cell_type": "markdown",
   "source": [
    "## Split training and testing data - approximately 80/20 split for training/testing"
   ],
   "metadata": {
    "collapsed": false
   }
  },
  {
   "cell_type": "code",
   "execution_count": null,
   "outputs": [],
   "source": [
    "#random sampling of 500x500 images and populating the train and test directories\n",
    "train_list, test_list = choice_pair(os.listdir(CURR_DIR_CUSTOM+'/source'), 0.8)\n",
    "for filename in tqdm(train_list):\n",
    "    sh.copy2(CURR_DIR_CUSTOM+'/source/'+filename, CURR_DIR_CUSTOM+'/gates/images/train/')\n",
    "    sh.copy2(CURR_DIR_CUSTOM+'/source_labels/'+filename[:-4]+'.txt', CURR_DIR_CUSTOM+'/gates/labels/train/')\n",
    "\n",
    "for filename in tqdm(test_list):\n",
    "    sh.copy2(CURR_DIR_CUSTOM+'/source/'+filename, CURR_DIR_CUSTOM+'/gates/images/test/')\n",
    "    sh.copy2(CURR_DIR_CUSTOM+'/source_labels/'+filename[:-4]+'.txt', CURR_DIR_CUSTOM+'/gates/labels/test/')"
   ],
   "metadata": {
    "collapsed": false,
    "pycharm": {
     "name": "#%%\n"
    }
   }
  }
 ],
 "metadata": {
  "kernelspec": {
   "name": "python38364bitbasecondae5dbb8728c094213850f00a08f6aa979",
   "language": "python",
   "display_name": "Python 3.8.3 64-bit ('base': conda)"
  },
  "language_info": {
   "codemirror_mode": {
    "name": "ipython",
    "version": 2
   },
   "file_extension": ".py",
   "mimetype": "text/x-python",
   "name": "python",
   "nbconvert_exporter": "python",
   "pygments_lexer": "ipython2",
   "version": "2.7.6"
  }
 },
 "nbformat": 4,
 "nbformat_minor": 0
}